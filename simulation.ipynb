{
 "cells": [
  {
   "cell_type": "code",
   "execution_count": null,
   "metadata": {},
   "outputs": [],
   "source": [
    "# Imports\n",
    "import sys\n",
    "import pygame\n",
    "import ctypes\n",
    "\n",
    "# Increas Dots Per inch so it looks sharper\n",
    "ctypes.windll.shcore.SetProcessDpiAwareness(True)"
   ]
  },
  {
   "cell_type": "code",
   "execution_count": null,
   "metadata": {},
   "outputs": [],
   "source": [
    "# Pygame Configuration\n",
    "pygame.init()\n",
    "fps = 300\n",
    "fpsClock = pygame.time.Clock()\n",
    "width, height = 640, 480\n",
    "screen = pygame.display.set_mode((width, height), pygame.RESIZABLE)\n",
    "font = pygame.font.SysFont('Arial', 20)"
   ]
  },
  {
   "cell_type": "code",
   "execution_count": null,
   "metadata": {},
   "outputs": [],
   "source": [
    "# Variables\n",
    "# Our Buttons will append themself to this list\n",
    "objects = []\n",
    "# Initial color\n",
    "drawColor = [0, 0, 0]\n",
    "# Initial brush size\n",
    "brushSize = 30\n",
    "brushSizeSteps = 3\n",
    "# Drawing Area Size\n",
    "canvasSize = [800, 800]"
   ]
  },
  {
   "cell_type": "code",
   "execution_count": null,
   "metadata": {},
   "outputs": [],
   "source": []
  }
 ],
 "metadata": {
  "language_info": {
   "name": "python"
  },
  "orig_nbformat": 4
 },
 "nbformat": 4,
 "nbformat_minor": 2
}
